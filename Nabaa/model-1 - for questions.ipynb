{
 "cells": [
  {
   "cell_type": "code",
   "execution_count": 14,
   "metadata": {},
   "outputs": [
    {
     "name": "stderr",
     "output_type": "stream",
     "text": [
      "c:\\Users\\nabaa\\AppData\\Local\\Programs\\Python\\Python311\\Lib\\site-packages\\tqdm\\auto.py:21: TqdmWarning: IProgress not found. Please update jupyter and ipywidgets. See https://ipywidgets.readthedocs.io/en/stable/user_install.html\n",
      "  from .autonotebook import tqdm as notebook_tqdm\n"
     ]
    },
    {
     "name": "stdout",
     "output_type": "stream",
     "text": [
      "\n",
      "Please Answer This Question: As a job candidate, discuss a time when you had to manage a project with limited resources. How did you prioritize and allocate resources to ensure project success?\n"
     ]
    }
   ],
   "source": [
    "import random\n",
    "from sklearn.metrics.pairwise import cosine_similarity\n",
    "import torch\n",
    "import pandas as pd\n",
    "import sentence_transformers\n",
    "from sentence_transformers import SentenceTransformer"
   ]
  },
  {
   "cell_type": "code",
   "execution_count": 15,
   "metadata": {},
   "outputs": [],
   "source": [
    "xlsx_file_path = \"D:/Tasks & Internships material/RadicalX/Final.xlsx\"\n",
    "df_xlsx = pd.read_excel(xlsx_file_path)"
   ]
  },
  {
   "cell_type": "code",
   "execution_count": 16,
   "metadata": {},
   "outputs": [
    {
     "name": "stdout",
     "output_type": "stream",
     "text": [
      "Choose a category:\n",
      "1. Soft Skills Questions\n",
      "2. Technical Questions\n"
     ]
    }
   ],
   "source": [
    "categories = df_xlsx['Category'].unique()\n",
    "\n",
    "# Let the user choose a category\n",
    "print(\"Choose a category:\")\n",
    "for i, category in enumerate(categories):\n",
    "    print(f\"{i + 1}. {category}\")"
   ]
  },
  {
   "cell_type": "code",
   "execution_count": 17,
   "metadata": {},
   "outputs": [],
   "source": [
    "selected_category_index = int(input(\"Enter the number of your chosen category: \")) - 1\n",
    "selected_category = categories[selected_category_index]\n",
    "\n",
    "# Filter the DataFrame based on the selected category\n",
    "category_df = df_xlsx[df_xlsx['Category'] == selected_category]"
   ]
  },
  {
   "cell_type": "code",
   "execution_count": 18,
   "metadata": {},
   "outputs": [
    {
     "name": "stdout",
     "output_type": "stream",
     "text": [
      "Choose a difficulty level:\n",
      "1. Beginner\n",
      "2. Intermediate\n",
      "3. Expert\n"
     ]
    }
   ],
   "source": [
    "# Ask the user about the difficulty level\n",
    "difficulty_levels = [\"Beginner\", \"Intermediate\", \"Expert\"]\n",
    "print(\"Choose a difficulty level:\")\n",
    "for i, difficulty in enumerate(difficulty_levels):\n",
    "    print(f\"{i + 1}. {difficulty}\")"
   ]
  },
  {
   "cell_type": "code",
   "execution_count": 19,
   "metadata": {},
   "outputs": [],
   "source": [
    "selected_difficulty_index = int(input(\"Enter the number of your chosen difficulty level: \")) - 1\n",
    "selected_difficulty = difficulty_levels[selected_difficulty_index]"
   ]
  },
  {
   "cell_type": "code",
   "execution_count": 20,
   "metadata": {},
   "outputs": [],
   "source": [
    "# Filter the DataFrame based on the selected difficulty level\n",
    "difficulty_df = category_df[category_df['Difficulty'] == selected_difficulty]\n",
    "\n",
    "# Ask the user about the number of questions\n",
    "num_questions = int(input(\"Enter the number of questions you want to be asked: \"))\n",
    "\n",
    "terms_dict = pd.Series(difficulty_df.Answer.values, index=difficulty_df.Question).to_dict()"
   ]
  },
  {
   "cell_type": "code",
   "execution_count": 21,
   "metadata": {},
   "outputs": [],
   "source": [
    "model_name = \"bert-base-nli-mean-tokens\"\n",
    "model = SentenceTransformer(model_name)\n",
    "\n",
    "def encode(text):\n",
    "    return model.encode(text, convert_to_tensor=True)"
   ]
  },
  {
   "cell_type": "code",
   "execution_count": 27,
   "metadata": {},
   "outputs": [
    {
     "name": "stdout",
     "output_type": "stream",
     "text": [
      "\n",
      "Please Answer This Question: As a learner, how do you seek opportunities to enhance your leadership skills? Reflect on a past experience where you successfully led a team and the impact of your leadership.\n",
      "Similarity Score: 85%\n",
      "Accuracy Percentage: 90%\n",
      "Your Answer: i try to do my presentation myself so that i increase my self confidence and puplic speaking skills which are very necessary for the leader< i previously did lead a team and the impacts were very promising\n",
      "Correct Answer: To enhance leadership skills, I actively seek mentorship, attend leadership training, and engage in challenging projects. In a past project, I led a team through a complex task, fostering collaboration and motivating members to excel. The impact was evident in the project's success and the team's enhanced cohesion and confidence.\n",
      "\n",
      "Please Answer This Question: As a user, how do you adapt your communication style when collaborating with colleagues who have different working preferences or communication styles?\n",
      "Similarity Score: 69%\n",
      "Accuracy Percentage: 70%\n",
      "Your Answer: i do some weekly meetings and workshops that are friendly to know their mindsets and try to find a common ground between us\n",
      "Correct Answer: Adapting communication is essential for effective collaboration. I tailor my communication style by understanding colleagues' preferences. For example, with a colleague who prefers concise messages, I provide clear and to-the-point updates. With those who prefer detailed information, I offer comprehensive insights. This adaptive approach ensures smooth communication and a shared understanding among team members.\n"
     ]
    }
   ],
   "source": [
    "asked_questions = set()\n",
    "\n",
    "for _ in range(num_questions):\n",
    "    # Filter out questions that have already been asked in the current session\n",
    "    remaining_questions = set(terms_dict.keys()) - asked_questions\n",
    "\n",
    "    if not remaining_questions:\n",
    "        print(\"You've already answered all available questions. Exiting.\")\n",
    "        break\n",
    "\n",
    "    random_term = random.choice(list(remaining_questions))\n",
    "    answer = terms_dict[random_term]\n",
    "    asked_questions.add(random_term)\n",
    "\n",
    "    print(f\"\\nPlease Answer This Question: {random_term}\")\n",
    "    user_input = input(\"Your Answer: \")\n",
    "\n",
    "    answer_vector = encode(answer).unsqueeze(0)\n",
    "    user_input_vector = encode(user_input).unsqueeze(0)\n",
    "\n",
    "    similarity = cosine_similarity(answer_vector, user_input_vector)[0][0]\n",
    "    similarity_percentage = round(similarity * 100)\n",
    "\n",
    "    # Determine the percentage based on the ranges\n",
    "    if 10 <= similarity_percentage < 20:\n",
    "        accuracy_percentage = 20\n",
    "    elif 20 <= similarity_percentage < 30:\n",
    "        accuracy_percentage = 30\n",
    "    elif 30 <= similarity_percentage < 40:\n",
    "        accuracy_percentage = 40\n",
    "    elif 40 <= similarity_percentage < 50:\n",
    "        accuracy_percentage = 50\n",
    "    elif 50 <= similarity_percentage < 60:\n",
    "        accuracy_percentage = 60\n",
    "    elif 60 <= similarity_percentage < 70:\n",
    "        accuracy_percentage = 70\n",
    "    elif 70 <= similarity_percentage < 80:\n",
    "        accuracy_percentage = 80\n",
    "    elif 80 <= similarity_percentage < 90:\n",
    "        accuracy_percentage = 90\n",
    "    elif 90 <= similarity_percentage <= 100:\n",
    "        accuracy_percentage = 100\n",
    "    else:\n",
    "        accuracy_percentage = 0\n",
    "\n",
    "    # Display the similarity information\n",
    "    print(f\"Similarity Score: {similarity_percentage}%\")\n",
    "    print(f\"Accuracy Percentage: {accuracy_percentage}%\")\n",
    "\n",
    "    print(f\"Your Answer: {user_input}\")\n",
    "    print(f\"Correct Answer: {answer}\")"
   ]
  },
  {
   "cell_type": "code",
   "execution_count": null,
   "metadata": {},
   "outputs": [],
   "source": [
    "# 50-70 > 75%\n",
    "# 70 - 100 > 100%\n",
    "# 30 - 50 > 50%"
   ]
  }
 ],
 "metadata": {
  "kernelspec": {
   "display_name": "Python 3",
   "language": "python",
   "name": "python3"
  },
  "language_info": {
   "codemirror_mode": {
    "name": "ipython",
    "version": 3
   },
   "file_extension": ".py",
   "mimetype": "text/x-python",
   "name": "python",
   "nbconvert_exporter": "python",
   "pygments_lexer": "ipython3",
   "version": "3.11.6"
  }
 },
 "nbformat": 4,
 "nbformat_minor": 2
}
