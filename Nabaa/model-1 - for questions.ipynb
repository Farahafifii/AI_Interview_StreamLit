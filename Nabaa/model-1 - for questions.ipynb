{
 "cells": [
  {
   "cell_type": "code",
   "execution_count": 1,
   "metadata": {},
   "outputs": [
    {
     "name": "stderr",
     "output_type": "stream",
     "text": [
      "c:\\Users\\nabaa\\AppData\\Local\\Programs\\Python\\Python311\\Lib\\site-packages\\tqdm\\auto.py:21: TqdmWarning: IProgress not found. Please update jupyter and ipywidgets. See https://ipywidgets.readthedocs.io/en/stable/user_install.html\n",
      "  from .autonotebook import tqdm as notebook_tqdm\n"
     ]
    }
   ],
   "source": [
    "import random\n",
    "from sklearn.metrics.pairwise import cosine_similarity\n",
    "import torch\n",
    "import pandas as pd\n",
    "import sentence_transformers\n",
    "from sentence_transformers import SentenceTransformer"
   ]
  },
  {
   "cell_type": "code",
   "execution_count": 2,
   "metadata": {},
   "outputs": [],
   "source": [
    "xlsx_file_path = \"D:/Tasks & Internships material/RadicalX/Final.xlsx\"\n",
    "df_xlsx = pd.read_excel(xlsx_file_path)"
   ]
  },
  {
   "cell_type": "code",
   "execution_count": 10,
   "metadata": {},
   "outputs": [
    {
     "name": "stdout",
     "output_type": "stream",
     "text": [
      "Choose a category:\n",
      "1. Soft Skills Questions\n",
      "2. Technical Questions\n"
     ]
    }
   ],
   "source": [
    "categories = df_xlsx['Category'].unique()\n",
    "\n",
    "# Let the user choose a category\n",
    "print(\"Choose a category:\")\n",
    "for i, category in enumerate(categories):\n",
    "    print(f\"{i + 1}. {category}\")"
   ]
  },
  {
   "cell_type": "code",
   "execution_count": 11,
   "metadata": {},
   "outputs": [],
   "source": [
    "selected_category_index = int(input(\"Enter the number of your chosen category: \")) - 1\n",
    "selected_category = categories[selected_category_index]\n",
    "\n",
    "# Filter the DataFrame based on the selected category\n",
    "category_df = df_xlsx[df_xlsx['Category'] == selected_category]"
   ]
  },
  {
   "cell_type": "code",
   "execution_count": 12,
   "metadata": {},
   "outputs": [
    {
     "name": "stdout",
     "output_type": "stream",
     "text": [
      "Choose a difficulty level:\n",
      "1. Beginner\n",
      "2. Intermediate\n",
      "3. Expert\n"
     ]
    }
   ],
   "source": [
    "# Ask the user about the difficulty level\n",
    "difficulty_levels = [\"Beginner\", \"Intermediate\", \"Expert\"]\n",
    "print(\"Choose a difficulty level:\")\n",
    "for i, difficulty in enumerate(difficulty_levels):\n",
    "    print(f\"{i + 1}. {difficulty}\")"
   ]
  },
  {
   "cell_type": "code",
   "execution_count": 13,
   "metadata": {},
   "outputs": [],
   "source": [
    "selected_difficulty_index = int(input(\"Enter the number of your chosen difficulty level: \")) - 1\n",
    "selected_difficulty = difficulty_levels[selected_difficulty_index]"
   ]
  },
  {
   "cell_type": "code",
   "execution_count": 14,
   "metadata": {},
   "outputs": [],
   "source": [
    "# Filter the DataFrame based on the selected difficulty level\n",
    "difficulty_df = category_df[category_df['Difficulty'] == selected_difficulty]\n",
    "\n",
    "# Ask the user about the number of questions\n",
    "num_questions = int(input(\"Enter the number of questions you want to be asked: \"))\n",
    "\n",
    "terms_dict = pd.Series(difficulty_df.Answer.values, index=difficulty_df.Question).to_dict()"
   ]
  },
  {
   "cell_type": "code",
   "execution_count": 15,
   "metadata": {},
   "outputs": [],
   "source": [
    "model_name = \"bert-base-nli-mean-tokens\"\n",
    "model = SentenceTransformer(model_name)\n",
    "\n",
    "def encode(text):\n",
    "    return model.encode(text, convert_to_tensor=True)"
   ]
  },
  {
   "cell_type": "code",
   "execution_count": 16,
   "metadata": {},
   "outputs": [
    {
     "name": "stdout",
     "output_type": "stream",
     "text": [
      "\n",
      "Please Answer This Question: As a user, what strategies do you employ to effectively prioritize tasks in a fast-paced work environment? Can you share a specific example?\n",
      "Your Accuracy is: 0.5860296487808228\n",
      "Your Answer: I prioritize acording to the team's dicisons and their opinions\n",
      "Correct Answer: In a fast-paced work environment, I employ a combination of time management techniques and priority assessment. For instance, I use the Eisenhower Matrix to categorize tasks into urgent and important, helping me focus on what needs immediate attention. An example would be when facing tight deadlines, I prioritize tasks based on their impact on project timelines, ensuring critical milestones are met first.\n",
      "\n",
      "Please Answer This Question: As a job candidate, how do you actively listen in a professional setting? Provide an example where your active listening skills positively influenced the outcome of a discussion or project.\n",
      "Your Accuracy is: -0.008456021547317505\n",
      "Your Answer: i don't give a fuck \n",
      "Correct Answer: Active listening is crucial for understanding others' perspectives. In a professional setting, I practice active listening by maintaining eye contact, nodding to show understanding, and asking clarifying questions. An example is during a project meeting where team members had diverse views. By actively listening, I identified common ground, facilitating a collaborative solution that everyone could support.\n"
     ]
    }
   ],
   "source": [
    "asked_questions = set()\n",
    "\n",
    "for _ in range(num_questions):\n",
    "    # Filter out questions that have already been asked in the current session\n",
    "    remaining_questions = set(terms_dict.keys()) - asked_questions\n",
    "\n",
    "    if not remaining_questions:\n",
    "        print(\"You've already answered all available questions. Exiting.\")\n",
    "        break\n",
    "\n",
    "    random_term = random.choice(list(remaining_questions))\n",
    "    answer = terms_dict[random_term]\n",
    "    asked_questions.add(random_term)\n",
    "\n",
    "    print(f\"\\nPlease Answer This Question: {random_term}\")\n",
    "    user_input = input(\"Your Answer: \")\n",
    "\n",
    "    answer_vector = encode(answer).unsqueeze(0)\n",
    "    user_input_vector = encode(user_input).unsqueeze(0)\n",
    "\n",
    "    similarity = cosine_similarity(answer_vector, user_input_vector)\n",
    "    print(f\"Your Accuracy is: {similarity[0][0]}\")\n",
    "    print(f\"Your Answer: {user_input}\")\n",
    "    print(f\"Correct Answer: {answer}\")\n"
   ]
  },
  {
   "cell_type": "code",
   "execution_count": null,
   "metadata": {},
   "outputs": [],
   "source": [
    "# 50-70 > 75%\n",
    "# 70 - 100 > 100%\n",
    "# 30 - 50 > 50%"
   ]
  }
 ],
 "metadata": {
  "kernelspec": {
   "display_name": "Python 3",
   "language": "python",
   "name": "python3"
  },
  "language_info": {
   "codemirror_mode": {
    "name": "ipython",
    "version": 3
   },
   "file_extension": ".py",
   "mimetype": "text/x-python",
   "name": "python",
   "nbconvert_exporter": "python",
   "pygments_lexer": "ipython3",
   "version": "3.11.6"
  }
 },
 "nbformat": 4,
 "nbformat_minor": 2
}
